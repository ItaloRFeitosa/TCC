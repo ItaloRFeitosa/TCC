{
 "cells": [
  {
   "cell_type": "code",
   "execution_count": 3,
   "metadata": {},
   "outputs": [],
   "source": [
    "import tensorflow.keras as keras\n",
    "from tensorflow.keras.utils import to_categorical\n",
    "import numpy as np\n",
    "from sklearn.model_selection import train_test_split\n",
    "import matplotlib.pyplot as plt\n",
    "import glob\n",
    "import itertools\n",
    "from sklearn.metrics import confusion_matrix\n",
    "from tensorflow.keras.preprocessing import image\n",
    "from mlxtend.plotting import plot_confusion_matrix\n",
    "from skimage import io\n",
    "from joblib import dump, load\n",
    "import math\n",
    "from sklearn.datasets import load_files"
   ]
  },
  {
   "cell_type": "markdown",
   "metadata": {},
   "source": [
    "# Utilitário"
   ]
  },
  {
   "cell_type": "code",
   "execution_count": 4,
   "metadata": {},
   "outputs": [],
   "source": [
    "path = 'z:/HAM10000/'\n",
    "\n",
    "labels = [\n",
    "    'akiec',\n",
    "    'bcc',\n",
    "    'bkl',\n",
    "    'df',\n",
    "    'mel',\n",
    "    'nv',\n",
    "    'vasc'\n",
    "    ]"
   ]
  },
  {
   "cell_type": "code",
   "execution_count": 5,
   "metadata": {},
   "outputs": [],
   "source": [
    "class_weight = {\n",
    "    0:10015 / (327*7) , #akiec\n",
    "    1:10015 / (514*7) , #bcc\n",
    "    2:10015 / (1099*7) , #bkl\n",
    "    3:10015 / (115*7) , #df\n",
    "    4:10015/ (1113*7) , #mel\n",
    "    5:10015 / (6705*7) , #nv\n",
    "    6:10015 / (142*7) #vasc\n",
    "}"
   ]
  },
  {
   "cell_type": "code",
   "execution_count": 6,
   "metadata": {},
   "outputs": [],
   "source": [
    "targets = to_categorical([0,1,2,3,4,5,6], 7)"
   ]
  },
  {
   "cell_type": "markdown",
   "metadata": {},
   "source": [
    "# Separação de Treinamento, Validação e Teste"
   ]
  },
  {
   "cell_type": "code",
   "execution_count": null,
   "metadata": {},
   "outputs": [],
   "source": [
    "filename = glob.glob(path + labels[0] + '/*.*', recursive = True)\n",
    "l = len(filename)\n",
    "target = l*[targets[0]]\n",
    "prediction = target\n",
    "for i in range(1,7):\n",
    "    filename = glob.glob(path + labels[i] + '/*.*', recursive = True)\n",
    "    l = len(filename)\n",
    "    target = l*[targets[i]]\n",
    "    prediction = np.concatenate((prediction,target))"
   ]
  },
  {
   "cell_type": "code",
   "execution_count": null,
   "metadata": {},
   "outputs": [],
   "source": [
    "imgpaths = glob.glob(path +'*/*.*', recursive = True)"
   ]
  },
  {
   "cell_type": "code",
   "execution_count": null,
   "metadata": {},
   "outputs": [],
   "source": [
    "X_train, X_test, y_train, y_test = train_test_split(imgpaths, prediction, test_size=0.1, random_state=42)\n",
    "X_train, X_val, y_train, y_val = train_test_split(X_train, y_train, test_size=0.2, random_state=42)"
   ]
  },
  {
   "cell_type": "code",
   "execution_count": null,
   "metadata": {},
   "outputs": [],
   "source": [
    "np.save('dataset/X_train.npy', X_train)\n",
    "np.save('dataset/X_val.npy', X_val)\n",
    "np.save('dataset/X_test.npy', X_test)\n",
    "np.save('dataset/y_train.npy', y_train)\n",
    "np.save('dataset/y_val.npy', y_val)\n",
    "np.save('dataset/y_test.npy', y_test)"
   ]
  },
  {
   "cell_type": "markdown",
   "metadata": {},
   "source": [
    "# Load Dataset"
   ]
  },
  {
   "cell_type": "code",
   "execution_count": 4,
   "metadata": {},
   "outputs": [],
   "source": [
    "X_train = np.load('dataset/X_train.npy')\n",
    "X_val = np.load('dataset/X_val.npy')\n",
    "X_test = np.load('dataset/X_test.npy')\n",
    "y_train = np.load('dataset/y_train.npy')\n",
    "y_val = np.load('dataset/y_val.npy')\n",
    "y_test = np.load('dataset/y_test.npy')"
   ]
  },
  {
   "cell_type": "markdown",
   "metadata": {},
   "source": [
    "# Extração de características com Xception"
   ]
  },
  {
   "cell_type": "code",
   "execution_count": null,
   "metadata": {},
   "outputs": [],
   "source": [
    "from tensorflow.keras.applications.xception import Xception\n",
    "from tensorflow.keras.applications.xception import preprocess_input\n",
    "\n",
    "\n",
    "xception_model = Xception(weights='imagenet', include_top=False, pooling='avg')"
   ]
  },
  {
   "cell_type": "code",
   "execution_count": null,
   "metadata": {},
   "outputs": [],
   "source": [
    "def path_to_tensor(img_path):\n",
    "    img = image.load_img(img_path, target_size=(299, 299))\n",
    "    x = image.img_to_array(img)\n",
    "    #x = np.mean(x) - np.std(x)\n",
    "    x = np.expand_dims(x, axis=0)\n",
    "    x = preprocess_input(x)\n",
    "    \n",
    "    return x\n",
    "\n",
    "def extract_features(path):\n",
    "    tensor = path_to_tensor(path)\n",
    "    return xception_model.predict(tensor).flatten()"
   ]
  },
  {
   "cell_type": "code",
   "execution_count": null,
   "metadata": {},
   "outputs": [],
   "source": [
    "train_features = np.array(list(map(extract_features, X_train)))\n",
    "np.save('dataset/xception/train/features.npy', train_features)\n",
    "print('..')\n",
    "\n",
    "valid_features = np.array(list(map(extract_features, X_val)))\n",
    "np.save('dataset/xception/valid/features.npy', valid_features)\n",
    "print('..')\n",
    "\n",
    "test_features = np.array(list(map(extract_features, X_test)))\n",
    "np.save('dataset/xception/test/features.npy', test_features)\n",
    "print('fim')"
   ]
  },
  {
   "cell_type": "markdown",
   "metadata": {},
   "source": [
    "# Extração de Features com VGG16"
   ]
  },
  {
   "cell_type": "code",
   "execution_count": null,
   "metadata": {},
   "outputs": [],
   "source": [
    "from tensorflow.keras.applications.vgg16 import VGG16\n",
    "from tensorflow.keras.applications.vgg16 import preprocess_input\n",
    "\n",
    "vgg16_model = VGG16(weights='imagenet', include_top=False, pooling='avg')"
   ]
  },
  {
   "cell_type": "code",
   "execution_count": null,
   "metadata": {},
   "outputs": [],
   "source": [
    "def path_to_tensor(img_path):\n",
    "    img = image.load_img(img_path, target_size=(224, 224))\n",
    "    x = image.img_to_array(img)\n",
    "    x = np.expand_dims(x, axis=0)\n",
    "    x = preprocess_input(x)\n",
    "    return x\n",
    "\n",
    "def extract_features(path):\n",
    "    tensor = path_to_tensor(path)\n",
    "    return vgg16_model.predict(tensor).flatten()"
   ]
  },
  {
   "cell_type": "code",
   "execution_count": null,
   "metadata": {},
   "outputs": [],
   "source": [
    "train_features = np.array(list(map(extract_features, X_train)))\n",
    "np.save('dataset/vgg16/train/features.npy', train_features)\n",
    "print('..')\n",
    "\n",
    "valid_features = np.array(list(map(extract_features, X_val)))\n",
    "np.save('dataset/vgg16/valid/features.npy', valid_features)\n",
    "print('..')\n",
    "\n",
    "test_features = np.array(list(map(extract_features, X_test)))\n",
    "np.save('dataset/vgg16/test/features.npy', test_features)\n",
    "print('fim')"
   ]
  },
  {
   "cell_type": "markdown",
   "metadata": {},
   "source": [
    "# Extração de Features com ResNet50"
   ]
  },
  {
   "cell_type": "code",
   "execution_count": null,
   "metadata": {},
   "outputs": [],
   "source": [
    "from tensorflow.keras.applications.resnet import ResNet50\n",
    "from tensorflow.keras.applications.resnet import preprocess_input\n",
    "\n",
    "resnet50_model = ResNet50(include_top=False, weights='imagenet', pooling='avg')"
   ]
  },
  {
   "cell_type": "code",
   "execution_count": null,
   "metadata": {},
   "outputs": [],
   "source": [
    "def path_to_tensor(img_path):\n",
    "    img = image.load_img(img_path, target_size=(224, 224))\n",
    "    x = image.img_to_array(img)\n",
    "    x = np.expand_dims(x, axis=0)\n",
    "    x = preprocess_input(x)\n",
    "    return x\n",
    "\n",
    "def extract_features(path):\n",
    "    tensor = path_to_tensor(path)\n",
    "    return resnet50_model.predict(tensor).flatten()"
   ]
  },
  {
   "cell_type": "code",
   "execution_count": null,
   "metadata": {},
   "outputs": [],
   "source": [
    "train_features = np.array(list(map(extract_features, X_train)))\n",
    "np.save('dataset/resnet50/train/features.npy', train_features)\n",
    "print('..')\n",
    "\n",
    "valid_features = np.array(list(map(extract_features, X_val)))\n",
    "np.save('dataset/resnet50/valid/features.npy', valid_features)\n",
    "print('..')\n",
    "\n",
    "test_features = np.array(list(map(extract_features, X_test)))\n",
    "np.save('dataset/resnet50/test/features.npy', test_features)\n",
    "print('fim')"
   ]
  },
  {
   "cell_type": "markdown",
   "metadata": {},
   "source": [
    "# Extração de Features com InceptionV3"
   ]
  },
  {
   "cell_type": "code",
   "execution_count": 5,
   "metadata": {},
   "outputs": [],
   "source": [
    "from tensorflow.keras.applications.inception_v3 import InceptionV3\n",
    "from tensorflow.keras.applications.inception_v3 import preprocess_input\n",
    "\n",
    "inceptionv3_model = InceptionV3(include_top=False, weights='imagenet', pooling='avg')"
   ]
  },
  {
   "cell_type": "code",
   "execution_count": 6,
   "metadata": {},
   "outputs": [],
   "source": [
    "def path_to_tensor(img_path):\n",
    "    img = image.load_img(img_path, target_size=(299, 299))\n",
    "    x = image.img_to_array(img)\n",
    "    x = np.expand_dims(x, axis=0)\n",
    "    x = preprocess_input(x)\n",
    "    return x\n",
    "\n",
    "def extract_features(path):\n",
    "    tensor = path_to_tensor(path)\n",
    "    return inceptionv3_model.predict(tensor).flatten()"
   ]
  },
  {
   "cell_type": "code",
   "execution_count": 7,
   "metadata": {},
   "outputs": [
    {
     "name": "stdout",
     "output_type": "stream",
     "text": [
      "..\n",
      "..\n",
      "fim\n"
     ]
    }
   ],
   "source": [
    "train_features = np.array(list(map(extract_features, X_train)))\n",
    "np.save('dataset/inceptionv3/train/features.npy', train_features)\n",
    "print('..')\n",
    "\n",
    "valid_features = np.array(list(map(extract_features, X_val)))\n",
    "np.save('dataset/inceptionv3/valid/features.npy', valid_features)\n",
    "print('..')\n",
    "\n",
    "test_features = np.array(list(map(extract_features, X_test)))\n",
    "np.save('dataset/inceptionv3/test/features.npy', test_features)\n",
    "print('fim')"
   ]
  },
  {
   "cell_type": "markdown",
   "metadata": {},
   "source": [
    "# Load Features Dataset"
   ]
  },
  {
   "cell_type": "code",
   "execution_count": 82,
   "metadata": {},
   "outputs": [],
   "source": [
    "train_features_xception = np.load('dataset/xception/train/features.npy')\n",
    "valid_features_xception = np.load('dataset/xception/valid/features.npy')\n",
    "test_features_xception = np.load('dataset/xception/test/features.npy')"
   ]
  },
  {
   "cell_type": "code",
   "execution_count": null,
   "metadata": {},
   "outputs": [],
   "source": [
    "train_features_vgg16 = np.load('dataset/vgg16/train/features.npy')\n",
    "valid_features_vgg16 = np.load('dataset/vgg16/valid/features.npy')\n",
    "test_features_vgg16 = np.load('dataset/vgg16/test/features.npy')"
   ]
  },
  {
   "cell_type": "code",
   "execution_count": 83,
   "metadata": {},
   "outputs": [],
   "source": [
    "train_features_resnet50 = np.load('dataset/resnet50/train/features.npy')\n",
    "valid_features_resnet50 = np.load('dataset/resnet50/valid/features.npy')\n",
    "test_features_resnet50 = np.load('dataset/resnet50/test/features.npy')"
   ]
  },
  {
   "cell_type": "code",
   "execution_count": 8,
   "metadata": {},
   "outputs": [],
   "source": [
    "train_features_inceptionv3 = np.load('dataset/inceptionv3/train/features.npy')\n",
    "valid_features_inceptionv3 = np.load('dataset/inceptionv3/valid/features.npy')\n",
    "test_features_inceptionv3 = np.load('dataset/inceptionv3/test/features.npy')"
   ]
  },
  {
   "cell_type": "markdown",
   "metadata": {},
   "source": [
    "# Classificador SVM - Xception vs Vgg16 vs ResNet50"
   ]
  },
  {
   "cell_type": "code",
   "execution_count": 9,
   "metadata": {},
   "outputs": [],
   "source": [
    "from sklearn.svm import SVC\n",
    "\n",
    "def decode(target):\n",
    "    for i in range(0, len(target)):\n",
    "        if(target[i] == 1):\n",
    "            return i"
   ]
  },
  {
   "cell_type": "code",
   "execution_count": null,
   "metadata": {},
   "outputs": [],
   "source": [
    "def normalizar()"
   ]
  },
  {
   "cell_type": "code",
   "execution_count": 10,
   "metadata": {},
   "outputs": [],
   "source": [
    "y = np.array(list(map(decode,y_train)))\n",
    "y_v = np.array(list(map(decode,y_val)))"
   ]
  },
  {
   "cell_type": "code",
   "execution_count": 11,
   "metadata": {},
   "outputs": [],
   "source": [
    "class_names = labels"
   ]
  },
  {
   "cell_type": "markdown",
   "metadata": {},
   "source": [
    "## SVM + Xception "
   ]
  },
  {
   "cell_type": "code",
   "execution_count": 84,
   "metadata": {},
   "outputs": [
    {
     "data": {
      "text/plain": [
       "SVC(C=100, cache_size=200, class_weight='balanced', coef0=0.0,\n",
       "    decision_function_shape='ovr', degree=3, gamma=0.001, kernel='rbf',\n",
       "    max_iter=-1, probability=False, random_state=None, shrinking=True,\n",
       "    tol=0.001, verbose=False)"
      ]
     },
     "execution_count": 84,
     "metadata": {},
     "output_type": "execute_result"
    }
   ],
   "source": [
    "xception_svm = SVC(C = 100, kernel = 'rbf', gamma = 0.001, decision_function_shape = 'ovr', class_weight = 'balanced')\n",
    "xception_svm.fit(train_features_xception, y)"
   ]
  },
  {
   "cell_type": "code",
   "execution_count": 85,
   "metadata": {},
   "outputs": [],
   "source": [
    "predictions_xception = xception_svm.predict(valid_features_xception)"
   ]
  },
  {
   "cell_type": "code",
   "execution_count": 86,
   "metadata": {},
   "outputs": [
    {
     "name": "stdout",
     "output_type": "stream",
     "text": [
      "acuraccy xception  0.7343316694398225\n"
     ]
    }
   ],
   "source": [
    "print('acuraccy xception ', xception_svm.score(valid_features_xception, y_v))"
   ]
  },
  {
   "cell_type": "code",
   "execution_count": 87,
   "metadata": {},
   "outputs": [
    {
     "data": {
      "image/png": "[encoded data removed]",
      "text/plain": [
       "<Figure size 432x288 with 2 Axes>"
      ]
     },
     "metadata": {
      "needs_background": "light"
     },
     "output_type": "display_data"
    }
   ],
   "source": [
    "fig, ax = plot_confusion_matrix(conf_mat=confusion_matrix(y_v, predictions_xception),\n",
    "                                colorbar=True,\n",
    "                                show_absolute=False,\n",
    "                                show_normed=True,\n",
    "                                class_names=class_names)\n",
    "\n",
    "plt.show()"
   ]
  },
  {
   "cell_type": "markdown",
   "metadata": {},
   "source": [
    "## SVM + Vgg16"
   ]
  },
  {
   "cell_type": "code",
   "execution_count": null,
   "metadata": {},
   "outputs": [],
   "source": [
    "vgg16_svm = SVC(C = 1, kernel = 'linear', decision_function_shape = 'ovr', class_weight = 'balanced')\n",
    "vgg16_svm.fit(train_features_vgg16, y)"
   ]
  },
  {
   "cell_type": "code",
   "execution_count": null,
   "metadata": {},
   "outputs": [],
   "source": [
    "predictions_vgg16 = vgg16_svm.predict(valid_features_vgg16)"
   ]
  },
  {
   "cell_type": "code",
   "execution_count": null,
   "metadata": {},
   "outputs": [],
   "source": [
    "print('acuraccy vgg16 ', vgg16_svm.score(valid_features_vgg16, y_v))"
   ]
  },
  {
   "cell_type": "code",
   "execution_count": null,
   "metadata": {},
   "outputs": [],
   "source": [
    "fig, ax = plot_confusion_matrix(conf_mat=confusion_matrix(y_v, predictions_vgg16),\n",
    "                                colorbar=True,\n",
    "                                show_absolute=False,\n",
    "                                show_normed=True,\n",
    "                                class_names=class_names)\n",
    "\n",
    "plt.show()"
   ]
  },
  {
   "cell_type": "markdown",
   "metadata": {},
   "source": [
    "## SVM + Resnet50"
   ]
  },
  {
   "cell_type": "code",
   "execution_count": 88,
   "metadata": {},
   "outputs": [
    {
     "data": {
      "text/plain": [
       "SVC(C=100, cache_size=200, class_weight='balanced', coef0=0.0,\n",
       "    decision_function_shape='ovr', degree=3, gamma=0.001, kernel='rbf',\n",
       "    max_iter=-1, probability=False, random_state=None, shrinking=True,\n",
       "    tol=0.001, verbose=False)"
      ]
     },
     "execution_count": 88,
     "metadata": {},
     "output_type": "execute_result"
    }
   ],
   "source": [
    "resnet50_svm = SVC(C = 100, kernel = 'rbf',gamma = 0.001, decision_function_shape = 'ovr', class_weight = 'balanced')\n",
    "resnet50_svm.fit(train_features_resnet50, y)"
   ]
  },
  {
   "cell_type": "code",
   "execution_count": 89,
   "metadata": {},
   "outputs": [],
   "source": [
    "predictions_resnet50 = resnet50_svm.predict(valid_features_resnet50)"
   ]
  },
  {
   "cell_type": "code",
   "execution_count": 90,
   "metadata": {},
   "outputs": [
    {
     "name": "stdout",
     "output_type": "stream",
     "text": [
      "acuraccy resnet50  0.8275097060454798\n"
     ]
    }
   ],
   "source": [
    "print('acuraccy resnet50 ', resnet50_svm.score(valid_features_resnet50, y_v))"
   ]
  },
  {
   "cell_type": "code",
   "execution_count": 91,
   "metadata": {},
   "outputs": [
    {
     "data": {
      "image/png": "[encoded data removed]",
      "text/plain": [
       "<Figure size 432x288 with 2 Axes>"
      ]
     },
     "metadata": {
      "needs_background": "light"
     },
     "output_type": "display_data"
    }
   ],
   "source": [
    "fig, ax = plot_confusion_matrix(conf_mat=confusion_matrix(y_v, predictions_resnet50),\n",
    "                                colorbar=True,\n",
    "                                show_absolute=False,\n",
    "                                show_normed=True,\n",
    "                                class_names=class_names)\n",
    "\n",
    "plt.show()"
   ]
  },
  {
   "cell_type": "markdown",
   "metadata": {},
   "source": [
    "## SVM + InceptionV3"
   ]
  },
  {
   "cell_type": "code",
   "execution_count": 77,
   "metadata": {},
   "outputs": [
    {
     "data": {
      "text/plain": [
       "SVC(C=100, cache_size=200, class_weight='balanced', coef0=0.0,\n",
       "    decision_function_shape='ovr', degree=3, gamma=0.001, kernel='rbf',\n",
       "    max_iter=-1, probability=False, random_state=None, shrinking=True,\n",
       "    tol=0.001, verbose=False)"
      ]
     },
     "execution_count": 77,
     "metadata": {},
     "output_type": "execute_result"
    }
   ],
   "source": [
    "inceptionv3_svm = SVC(C = 100, kernel = 'rbf', gamma = 0.001, decision_function_shape = 'ovr', class_weight = 'balanced')\n",
    "inceptionv3_svm.fit(train_features_inceptionv3, y)"
   ]
  },
  {
   "cell_type": "code",
   "execution_count": 79,
   "metadata": {},
   "outputs": [],
   "source": [
    "predictions_inceptionv3 = inceptionv3_svm.predict(valid_features_inceptionv3)"
   ]
  },
  {
   "cell_type": "code",
   "execution_count": 80,
   "metadata": {},
   "outputs": [
    {
     "name": "stdout",
     "output_type": "stream",
     "text": [
      "acuraccy inceptionv3  0.764281752634498\n"
     ]
    }
   ],
   "source": [
    "print('acuraccy inceptionv3 ', inceptionv3_svm.score(valid_features_inceptionv3, y_v))"
   ]
  },
  {
   "cell_type": "code",
   "execution_count": 81,
   "metadata": {},
   "outputs": [
    {
     "data": {
      "image/png": "[encoded data removed]",
      "text/plain": [
       "<Figure size 432x288 with 2 Axes>"
      ]
     },
     "metadata": {
      "needs_background": "light"
     },
     "output_type": "display_data"
    }
   ],
   "source": [
    "fig, ax = plot_confusion_matrix(conf_mat=confusion_matrix(y_v, predictions_inceptionv3),\n",
    "                                colorbar=True,\n",
    "                                show_absolute=False,\n",
    "                                show_normed=True,\n",
    "                                class_names=class_names)\n",
    "\n",
    "plt.show()"
   ]
  },
  {
   "cell_type": "markdown",
   "metadata": {},
   "source": [
    "# Random Forest Classifier"
   ]
  },
  {
   "cell_type": "code",
   "execution_count": 7,
   "metadata": {},
   "outputs": [],
   "source": [
    "from sklearn.ensemble import RandomForestClassifier"
   ]
  },
  {
   "cell_type": "code",
   "execution_count": 18,
   "metadata": {},
   "outputs": [
    {
     "data": {
      "text/plain": [
       "RandomForestClassifier(bootstrap=True, class_weight='balanced_subsample',\n",
       "                       criterion='gini', max_depth=None, max_features='auto',\n",
       "                       max_leaf_nodes=7, min_impurity_decrease=0.0,\n",
       "                       min_impurity_split=None, min_samples_leaf=1,\n",
       "                       min_samples_split=2, min_weight_fraction_leaf=0.0,\n",
       "                       n_estimators=1000, n_jobs=-1, oob_score=False,\n",
       "                       random_state=None, verbose=0, warm_start=False)"
      ]
     },
     "execution_count": 18,
     "metadata": {},
     "output_type": "execute_result"
    }
   ],
   "source": [
    "resnet50_rf = RandomForestClassifier(n_jobs =-1, n_estimators = 100, max_leaf_nodes =7, class_weight = 'balanced_subsample')\n",
    "resnet50_rf.fit(train_features_resnet50, y)"
   ]
  },
  {
   "cell_type": "code",
   "execution_count": 19,
   "metadata": {},
   "outputs": [],
   "source": [
    "predictions_resnet50 = resnet50_rf.predict(valid_features_resnet50)"
   ]
  },
  {
   "cell_type": "code",
   "execution_count": 20,
   "metadata": {},
   "outputs": [
    {
     "name": "stdout",
     "output_type": "stream",
     "text": [
      "acuraccy resnet50  0.46755407653910147\n"
     ]
    }
   ],
   "source": [
    "print('acuraccy resnet50 ', resnet50_rf.score(valid_features_resnet50, y_v))"
   ]
  },
  {
   "cell_type": "code",
   "execution_count": 21,
   "metadata": {},
   "outputs": [
    {
     "data": {
      "image/png": "[encoded data removed]",
      "text/plain": [
       "<Figure size 432x288 with 2 Axes>"
      ]
     },
     "metadata": {
      "needs_background": "light"
     },
     "output_type": "display_data"
    }
   ],
   "source": [
    "fig, ax = plot_confusion_matrix(conf_mat=confusion_matrix(y_v, predictions_resnet50),\n",
    "                                colorbar=True,\n",
    "                                show_absolute=False,\n",
    "                                show_normed=True,\n",
    "                                class_names=class_names)\n",
    "\n",
    "plt.show()"
   ]
  },
  {
   "cell_type": "markdown",
   "metadata": {},
   "source": [
    "# Fully Connected Neural Network"
   ]
  },
  {
   "cell_type": "code",
   "execution_count": 37,
   "metadata": {},
   "outputs": [],
   "source": [
    "from tensorflow.keras.models import Sequential\n",
    "from tensorflow.keras.layers import Dropout, Dense, Activation, BatchNormalization\n",
    "from tensorflow.keras.callbacks import ModelCheckpoint, EarlyStopping\n",
    "\n",
    "def model_fc(train_features, y_train,valid_features, y_val, class_weight):\n",
    "    model = Sequential()\n",
    "\n",
    "    model.add(Dense(2048, input_shape=[len(train_features[0])]))\n",
    "    model.add(BatchNormalization())\n",
    "    model.add(Activation('elu'))\n",
    "\n",
    "    model.add(Dense(2048))\n",
    "    \n",
    "    model.add(Activation('elu'))\n",
    "    \n",
    "    model.add(Dense(512))\n",
    "    \n",
    "    model.add(Activation('elu'))\n",
    "    \n",
    "    model.add(Dense(128))\n",
    "    model.add(BatchNormalization())\n",
    "    model.add(Activation('elu'))\n",
    "\n",
    "    model.add(Dense(len(labels)))\n",
    "    model.add(Activation('softmax'))\n",
    "\n",
    "    model.summary()\n",
    "\n",
    "    model.compile(loss='categorical_crossentropy', optimizer='sgd', metrics=['accuracy'])\n",
    "\n",
    "    checkpointer = ModelCheckpoint(filepath='models/xception_fc.hdf5', \n",
    "                                   verbose=1, save_best_only=True)\n",
    "\n",
    "    early_stopping = EarlyStopping(monitor='val_loss',\n",
    "                                  min_delta=0,\n",
    "                                  patience=10,\n",
    "                                  verbose=0, mode='auto')\n",
    "\n",
    "    model.fit(train_features, y_train, \n",
    "              validation_data=(valid_features, y_val),\n",
    "              epochs=300, batch_size=512, verbose=0, callbacks=[checkpointer, early_stopping],\n",
    "              shuffle=True, class_weight=class_weight, use_multiprocessing=True)\n",
    "    \n",
    "    return model"
   ]
  },
  {
   "cell_type": "code",
   "execution_count": null,
   "metadata": {},
   "outputs": [
    {
     "name": "stdout",
     "output_type": "stream",
     "text": [
      "Model: \"sequential_7\"\n",
      "_________________________________________________________________\n",
      "Layer (type)                 Output Shape              Param #   \n",
      "=================================================================\n",
      "dense_41 (Dense)             (None, 2048)              4196352   \n",
      "_________________________________________________________________\n",
      "batch_normalization_23 (Batc (None, 2048)              8192      \n",
      "_________________________________________________________________\n",
      "activation_41 (Activation)   (None, 2048)              0         \n",
      "_________________________________________________________________\n",
      "dense_42 (Dense)             (None, 2048)              4196352   \n",
      "_________________________________________________________________\n",
      "activation_42 (Activation)   (None, 2048)              0         \n",
      "_________________________________________________________________\n",
      "dense_43 (Dense)             (None, 2048)              4196352   \n",
      "_________________________________________________________________\n",
      "activation_43 (Activation)   (None, 2048)              0         \n",
      "_________________________________________________________________\n",
      "dense_44 (Dense)             (None, 2048)              4196352   \n",
      "_________________________________________________________________\n",
      "activation_44 (Activation)   (None, 2048)              0         \n",
      "_________________________________________________________________\n",
      "dense_45 (Dense)             (None, 512)               1049088   \n",
      "_________________________________________________________________\n",
      "activation_45 (Activation)   (None, 512)               0         \n",
      "_________________________________________________________________\n",
      "dense_46 (Dense)             (None, 512)               262656    \n",
      "_________________________________________________________________\n",
      "activation_46 (Activation)   (None, 512)               0         \n",
      "_________________________________________________________________\n",
      "dense_47 (Dense)             (None, 128)               65664     \n",
      "_________________________________________________________________\n",
      "batch_normalization_24 (Batc (None, 128)               512       \n",
      "_________________________________________________________________\n",
      "activation_47 (Activation)   (None, 128)               0         \n",
      "_________________________________________________________________\n",
      "dense_48 (Dense)             (None, 7)                 903       \n",
      "_________________________________________________________________\n",
      "activation_48 (Activation)   (None, 7)                 0         \n",
      "=================================================================\n",
      "Total params: 18,172,423\n",
      "Trainable params: 18,168,071\n",
      "Non-trainable params: 4,352\n",
      "_________________________________________________________________\n",
      "\n",
      "Epoch 00001: val_loss improved from inf to 1.71241, saving model to models/xception_fc.hdf5\n",
      "\n",
      "Epoch 00002: val_loss did not improve from 1.71241\n",
      "\n",
      "Epoch 00003: val_loss did not improve from 1.71241\n",
      "\n",
      "Epoch 00004: val_loss improved from 1.71241 to 1.57882, saving model to models/xception_fc.hdf5\n",
      "\n",
      "Epoch 00005: val_loss improved from 1.57882 to 1.40671, saving model to models/xception_fc.hdf5\n",
      "\n",
      "Epoch 00006: val_loss improved from 1.40671 to 1.36168, saving model to models/xception_fc.hdf5\n",
      "\n",
      "Epoch 00007: val_loss improved from 1.36168 to 1.17858, saving model to models/xception_fc.hdf5\n",
      "\n",
      "Epoch 00008: val_loss did not improve from 1.17858\n",
      "\n",
      "Epoch 00009: val_loss did not improve from 1.17858\n",
      "\n",
      "Epoch 00010: val_loss did not improve from 1.17858\n",
      "\n",
      "Epoch 00011: val_loss improved from 1.17858 to 1.05591, saving model to models/xception_fc.hdf5\n",
      "\n",
      "Epoch 00012: val_loss did not improve from 1.05591\n",
      "\n",
      "Epoch 00013: val_loss did not improve from 1.05591\n",
      "\n",
      "Epoch 00014: val_loss did not improve from 1.05591\n",
      "\n",
      "Epoch 00015: val_loss did not improve from 1.05591\n",
      "\n",
      "Epoch 00016: val_loss improved from 1.05591 to 0.99160, saving model to models/xception_fc.hdf5\n",
      "\n",
      "Epoch 00017: val_loss did not improve from 0.99160\n",
      "\n",
      "Epoch 00018: val_loss improved from 0.99160 to 0.97114, saving model to models/xception_fc.hdf5\n",
      "\n",
      "Epoch 00019: val_loss did not improve from 0.97114\n",
      "\n",
      "Epoch 00020: val_loss improved from 0.97114 to 0.92205, saving model to models/xception_fc.hdf5\n",
      "\n",
      "Epoch 00021: val_loss did not improve from 0.92205\n",
      "\n",
      "Epoch 00022: val_loss did not improve from 0.92205\n",
      "\n",
      "Epoch 00023: val_loss did not improve from 0.92205\n",
      "\n",
      "Epoch 00024: val_loss did not improve from 0.92205\n",
      "\n",
      "Epoch 00025: val_loss did not improve from 0.92205\n",
      "\n",
      "Epoch 00026: val_loss improved from 0.92205 to 0.91959, saving model to models/xception_fc.hdf5\n",
      "\n",
      "Epoch 00027: val_loss did not improve from 0.91959\n",
      "\n",
      "Epoch 00028: val_loss did not improve from 0.91959\n",
      "\n",
      "Epoch 00029: val_loss did not improve from 0.91959\n",
      "\n",
      "Epoch 00030: val_loss improved from 0.91959 to 0.87998, saving model to models/xception_fc.hdf5\n"
     ]
    }
   ],
   "source": [
    "inceptionv3_fc = model_fc(train_features_resnet50,y_train,valid_features_resnet50,y_val,class_weight)"
   ]
  },
  {
   "cell_type": "code",
   "execution_count": null,
   "metadata": {},
   "outputs": [],
   "source": [
    "predictions = [np.argmax(inceptionv3_fc.predict(np.expand_dims(feature, axis=0))) for feature in test_features_resnet50]\n",
    "test_accuracy = 100*np.sum(np.array(predictions)==np.argmax(y_test, axis=1))/len(predictions)\n",
    "print('Test accuracy: %.4f%%' % test_accuracy)\n",
    "y_true = [np.argmax(x) for x in y_test]"
   ]
  },
  {
   "cell_type": "code",
   "execution_count": null,
   "metadata": {},
   "outputs": [],
   "source": [
    "# Compute confusion matrix\n",
    "fig, ax = plot_confusion_matrix(conf_mat=confusion_matrix(y_true, predictions),\n",
    "                                colorbar=True,\n",
    "                                show_absolute=False,\n",
    "                                show_normed=True,\n",
    "                                class_names=labels)\n",
    "\n",
    "plt.show()"
   ]
  },
  {
   "cell_type": "code",
   "execution_count": null,
   "metadata": {},
   "outputs": [],
   "source": []
  }
 ],
 "metadata": {
  "kernelspec": {
   "display_name": "Python 3",
   "language": "python",
   "name": "python3"
  },
  "language_info": {
   "codemirror_mode": {
    "name": "ipython",
    "version": 3
   },
   "file_extension": ".py",
   "mimetype": "text/x-python",
   "name": "python",
   "nbconvert_exporter": "python",
   "pygments_lexer": "ipython3",
   "version": "3.6.9"
  }
 },
 "nbformat": 4,
 "nbformat_minor": 4
}
